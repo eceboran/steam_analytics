{
 "cells": [
  {
   "cell_type": "code",
   "execution_count": 1,
   "id": "039be2d1",
   "metadata": {},
   "outputs": [],
   "source": [
    "# Import necessary libraries\n",
    "import sys\n",
    "import os\n",
    "import numpy as np\n",
    "import pandas as pd\n",
    "import json\n",
    "import sqlite3\n",
    "%load_ext sql"
   ]
  },
  {
   "cell_type": "code",
   "execution_count": 2,
   "id": "d964e2e9",
   "metadata": {},
   "outputs": [],
   "source": [
    "from sqlalchemy import Column, Integer, String, ForeignKey\n",
    "from sqlalchemy.orm import declarative_base\n",
    "from sqlalchemy import create_engine\n",
    "from sqlalchemy.orm import sessionmaker"
   ]
  },
  {
   "cell_type": "code",
   "execution_count": 3,
   "id": "c7d00c65",
   "metadata": {},
   "outputs": [],
   "source": [
    "# Directories\n",
    "# Main directory\n",
    "main_dir = os.path.abspath('..\\\\\\\\..\\\\\\\\')\n",
    "# Audio data directory\n",
    "data_dir = os.path.join(main_dir, 'Data', 'Source')"
   ]
  },
  {
   "cell_type": "code",
   "execution_count": 4,
   "id": "073793d7",
   "metadata": {},
   "outputs": [
    {
     "data": {
      "text/html": [
       "<div>\n",
       "<style scoped>\n",
       "    .dataframe tbody tr th:only-of-type {\n",
       "        vertical-align: middle;\n",
       "    }\n",
       "\n",
       "    .dataframe tbody tr th {\n",
       "        vertical-align: top;\n",
       "    }\n",
       "\n",
       "    .dataframe thead th {\n",
       "        text-align: right;\n",
       "    }\n",
       "</style>\n",
       "<table border=\"1\" class=\"dataframe\">\n",
       "  <thead>\n",
       "    <tr style=\"text-align: right;\">\n",
       "      <th></th>\n",
       "      <th>type</th>\n",
       "      <th>name</th>\n",
       "      <th>required_age</th>\n",
       "      <th>is_free</th>\n",
       "      <th>detailed_description</th>\n",
       "      <th>about_the_game</th>\n",
       "      <th>short_description</th>\n",
       "      <th>supported_languages</th>\n",
       "      <th>header_image</th>\n",
       "      <th>website</th>\n",
       "      <th>...</th>\n",
       "      <th>total_reviews</th>\n",
       "      <th>controller_support</th>\n",
       "      <th>dlc</th>\n",
       "      <th>demos</th>\n",
       "      <th>recommendations</th>\n",
       "      <th>achievements</th>\n",
       "      <th>reviews</th>\n",
       "      <th>ext_user_account_notice</th>\n",
       "      <th>metacritic</th>\n",
       "      <th>drm_notice</th>\n",
       "    </tr>\n",
       "    <tr>\n",
       "      <th>steam_appid</th>\n",
       "      <th></th>\n",
       "      <th></th>\n",
       "      <th></th>\n",
       "      <th></th>\n",
       "      <th></th>\n",
       "      <th></th>\n",
       "      <th></th>\n",
       "      <th></th>\n",
       "      <th></th>\n",
       "      <th></th>\n",
       "      <th></th>\n",
       "      <th></th>\n",
       "      <th></th>\n",
       "      <th></th>\n",
       "      <th></th>\n",
       "      <th></th>\n",
       "      <th></th>\n",
       "      <th></th>\n",
       "      <th></th>\n",
       "      <th></th>\n",
       "      <th></th>\n",
       "    </tr>\n",
       "  </thead>\n",
       "  <tbody>\n",
       "    <tr>\n",
       "      <th>1198490</th>\n",
       "      <td>game</td>\n",
       "      <td>All That Remains: Part 1</td>\n",
       "      <td>0</td>\n",
       "      <td>False</td>\n",
       "      <td>“Duncan Price is paranoid” they used to say. H...</td>\n",
       "      <td>“Duncan Price is paranoid” they used to say. H...</td>\n",
       "      <td>“Duncan Price is paranoid” they used to say. H...</td>\n",
       "      <td>English&lt;strong&gt;*&lt;/strong&gt;, French, Italian, Ge...</td>\n",
       "      <td>https://cdn.akamai.steamstatic.com/steam/apps/...</td>\n",
       "      <td>https://glitch.games/</td>\n",
       "      <td>...</td>\n",
       "      <td>4</td>\n",
       "      <td>NaN</td>\n",
       "      <td>NaN</td>\n",
       "      <td>NaN</td>\n",
       "      <td>NaN</td>\n",
       "      <td>NaN</td>\n",
       "      <td>NaN</td>\n",
       "      <td>NaN</td>\n",
       "      <td>NaN</td>\n",
       "      <td>NaN</td>\n",
       "    </tr>\n",
       "    <tr>\n",
       "      <th>1198510</th>\n",
       "      <td>game</td>\n",
       "      <td>Paperball</td>\n",
       "      <td>0</td>\n",
       "      <td>False</td>\n",
       "      <td>It's time to get rolling!&lt;br&gt;&lt;br&gt;Navigate tric...</td>\n",
       "      <td>It's time to get rolling!&lt;br&gt;&lt;br&gt;Navigate tric...</td>\n",
       "      <td>It's time to get rolling! Navigate tricky pass...</td>\n",
       "      <td>English&lt;strong&gt;*&lt;/strong&gt;, German, Japanese, D...</td>\n",
       "      <td>https://cdn.akamai.steamstatic.com/steam/apps/...</td>\n",
       "      <td>http://cliax-games.com/games/paperball/</td>\n",
       "      <td>...</td>\n",
       "      <td>134</td>\n",
       "      <td>full</td>\n",
       "      <td>[1209620, 1209621, 1285150]</td>\n",
       "      <td>[{'appid': 1219680, 'description': ''}]</td>\n",
       "      <td>{'total': 143}</td>\n",
       "      <td>{'total': 37, 'highlighted': [{'name': 'Ready ...</td>\n",
       "      <td>NaN</td>\n",
       "      <td>NaN</td>\n",
       "      <td>NaN</td>\n",
       "      <td>NaN</td>\n",
       "    </tr>\n",
       "    <tr>\n",
       "      <th>1198550</th>\n",
       "      <td>game</td>\n",
       "      <td>Moderium</td>\n",
       "      <td>0</td>\n",
       "      <td>False</td>\n",
       "      <td>Moderium is a Wave-Based Isometric Action Role...</td>\n",
       "      <td>Moderium is a Wave-Based Isometric Action Role...</td>\n",
       "      <td>Conquer waves of encroaching enemies in this A...</td>\n",
       "      <td>English&lt;strong&gt;*&lt;/strong&gt;&lt;br&gt;&lt;strong&gt;*&lt;/strong...</td>\n",
       "      <td>https://cdn.akamai.steamstatic.com/steam/apps/...</td>\n",
       "      <td>NaN</td>\n",
       "      <td>...</td>\n",
       "      <td>1</td>\n",
       "      <td>NaN</td>\n",
       "      <td>NaN</td>\n",
       "      <td>[{'appid': 1220740, 'description': ''}]</td>\n",
       "      <td>NaN</td>\n",
       "      <td>NaN</td>\n",
       "      <td>NaN</td>\n",
       "      <td>NaN</td>\n",
       "      <td>NaN</td>\n",
       "      <td>NaN</td>\n",
       "    </tr>\n",
       "    <tr>\n",
       "      <th>1198600</th>\n",
       "      <td>game</td>\n",
       "      <td>Pizza Time Explosion</td>\n",
       "      <td>0</td>\n",
       "      <td>False</td>\n",
       "      <td>&lt;img src=\"https://cdn.akamai.steamstatic.com/s...</td>\n",
       "      <td>&lt;img src=\"https://cdn.akamai.steamstatic.com/s...</td>\n",
       "      <td>Welcome to the Pizza Dimension!</td>\n",
       "      <td>English</td>\n",
       "      <td>https://cdn.akamai.steamstatic.com/steam/apps/...</td>\n",
       "      <td>https://electric-prune-juice.itch.io/pizza-tim...</td>\n",
       "      <td>...</td>\n",
       "      <td>18</td>\n",
       "      <td>full</td>\n",
       "      <td>[1220660]</td>\n",
       "      <td>NaN</td>\n",
       "      <td>NaN</td>\n",
       "      <td>{'total': 32, 'highlighted': [{'name': 'Pizza ...</td>\n",
       "      <td>NaN</td>\n",
       "      <td>NaN</td>\n",
       "      <td>NaN</td>\n",
       "      <td>NaN</td>\n",
       "    </tr>\n",
       "    <tr>\n",
       "      <th>1198630</th>\n",
       "      <td>game</td>\n",
       "      <td>Customer Cums First!</td>\n",
       "      <td>0</td>\n",
       "      <td>False</td>\n",
       "      <td>&lt;img src=\"https://cdn.akamai.steamstatic.com/s...</td>\n",
       "      <td>&lt;img src=\"https://cdn.akamai.steamstatic.com/s...</td>\n",
       "      <td>It's just like any other shopping district in ...</td>\n",
       "      <td>English</td>\n",
       "      <td>https://cdn.akamai.steamstatic.com/steam/apps/...</td>\n",
       "      <td>https://cherrykissgames.com/</td>\n",
       "      <td>...</td>\n",
       "      <td>10</td>\n",
       "      <td>NaN</td>\n",
       "      <td>NaN</td>\n",
       "      <td>NaN</td>\n",
       "      <td>NaN</td>\n",
       "      <td>{'total': 18, 'highlighted': [{'name': \"Now th...</td>\n",
       "      <td>NaN</td>\n",
       "      <td>NaN</td>\n",
       "      <td>NaN</td>\n",
       "      <td>NaN</td>\n",
       "    </tr>\n",
       "    <tr>\n",
       "      <th>...</th>\n",
       "      <td>...</td>\n",
       "      <td>...</td>\n",
       "      <td>...</td>\n",
       "      <td>...</td>\n",
       "      <td>...</td>\n",
       "      <td>...</td>\n",
       "      <td>...</td>\n",
       "      <td>...</td>\n",
       "      <td>...</td>\n",
       "      <td>...</td>\n",
       "      <td>...</td>\n",
       "      <td>...</td>\n",
       "      <td>...</td>\n",
       "      <td>...</td>\n",
       "      <td>...</td>\n",
       "      <td>...</td>\n",
       "      <td>...</td>\n",
       "      <td>...</td>\n",
       "      <td>...</td>\n",
       "      <td>...</td>\n",
       "      <td>...</td>\n",
       "    </tr>\n",
       "    <tr>\n",
       "      <th>1113770</th>\n",
       "      <td>game</td>\n",
       "      <td>Lunch A Palooza</td>\n",
       "      <td>0</td>\n",
       "      <td>False</td>\n",
       "      <td>&lt;img src=\"https://cdn.akamai.steamstatic.com/s...</td>\n",
       "      <td>&lt;img src=\"https://cdn.akamai.steamstatic.com/s...</td>\n",
       "      <td>Lunch A Palooza is a game for everyone! With i...</td>\n",
       "      <td>English, French, Italian, German, Spanish - Sp...</td>\n",
       "      <td>https://cdn.akamai.steamstatic.com/steam/apps/...</td>\n",
       "      <td>http://www.alternativesoft.co.uk/lunch-a-paloo...</td>\n",
       "      <td>...</td>\n",
       "      <td>13</td>\n",
       "      <td>full</td>\n",
       "      <td>NaN</td>\n",
       "      <td>NaN</td>\n",
       "      <td>NaN</td>\n",
       "      <td>{'total': 21, 'highlighted': [{'name': 'You go...</td>\n",
       "      <td>NaN</td>\n",
       "      <td>NaN</td>\n",
       "      <td>NaN</td>\n",
       "      <td>NaN</td>\n",
       "    </tr>\n",
       "    <tr>\n",
       "      <th>1113780</th>\n",
       "      <td>game</td>\n",
       "      <td>Uncharted Tides: Port Royal</td>\n",
       "      <td>0</td>\n",
       "      <td>False</td>\n",
       "      <td>Mason Owens is missing for decades, and yet hi...</td>\n",
       "      <td>Mason Owens is missing for decades, and yet hi...</td>\n",
       "      <td>Dead men tell no tales! And tales about an inf...</td>\n",
       "      <td>English&lt;strong&gt;*&lt;/strong&gt;, French, Italian, Ge...</td>\n",
       "      <td>https://cdn.akamai.steamstatic.com/steam/apps/...</td>\n",
       "      <td>https://www.artifexmundi.com/</td>\n",
       "      <td>...</td>\n",
       "      <td>30</td>\n",
       "      <td>NaN</td>\n",
       "      <td>NaN</td>\n",
       "      <td>NaN</td>\n",
       "      <td>NaN</td>\n",
       "      <td>{'total': 22, 'highlighted': [{'name': 'Cursed...</td>\n",
       "      <td>NaN</td>\n",
       "      <td>NaN</td>\n",
       "      <td>NaN</td>\n",
       "      <td>NaN</td>\n",
       "    </tr>\n",
       "    <tr>\n",
       "      <th>1113000</th>\n",
       "      <td>game</td>\n",
       "      <td>Persona 4 Golden</td>\n",
       "      <td>0</td>\n",
       "      <td>False</td>\n",
       "      <td>&lt;h1&gt;Digital Deluxe Edition&lt;/h1&gt;&lt;p&gt;&lt;img src=\"ht...</td>\n",
       "      <td>&lt;img src=\"https://cdn.akamai.steamstatic.com/s...</td>\n",
       "      <td>A coming of age story that sets the protagonis...</td>\n",
       "      <td>English&lt;strong&gt;*&lt;/strong&gt;, Japanese&lt;strong&gt;*&lt;/...</td>\n",
       "      <td>https://cdn.akamai.steamstatic.com/steam/apps/...</td>\n",
       "      <td>NaN</td>\n",
       "      <td>...</td>\n",
       "      <td>29998</td>\n",
       "      <td>full</td>\n",
       "      <td>NaN</td>\n",
       "      <td>NaN</td>\n",
       "      <td>{'total': 42884}</td>\n",
       "      <td>{'total': 50, 'highlighted': [{'name': 'Golden...</td>\n",
       "      <td>“You can now enjoy the masterpiece in its best...</td>\n",
       "      <td>NaN</td>\n",
       "      <td>NaN</td>\n",
       "      <td>Denuvo Anti-tamper</td>\n",
       "    </tr>\n",
       "    <tr>\n",
       "      <th>1113060</th>\n",
       "      <td>game</td>\n",
       "      <td>Magic Farm 3: The Ice Danger</td>\n",
       "      <td>0</td>\n",
       "      <td>False</td>\n",
       "      <td>Magic Farm 3: The Ice Danger is an adventure a...</td>\n",
       "      <td>Magic Farm 3: The Ice Danger is an adventure a...</td>\n",
       "      <td>&amp;quot;Magic Farm 3: The Ice Danger&amp;quot; is a ...</td>\n",
       "      <td>English</td>\n",
       "      <td>https://cdn.akamai.steamstatic.com/steam/apps/...</td>\n",
       "      <td>NaN</td>\n",
       "      <td>...</td>\n",
       "      <td>4</td>\n",
       "      <td>NaN</td>\n",
       "      <td>NaN</td>\n",
       "      <td>[{'appid': 1113180, 'description': ''}]</td>\n",
       "      <td>NaN</td>\n",
       "      <td>{'total': 27, 'highlighted': [{'name': 'Insect...</td>\n",
       "      <td>NaN</td>\n",
       "      <td>NaN</td>\n",
       "      <td>NaN</td>\n",
       "      <td>NaN</td>\n",
       "    </tr>\n",
       "    <tr>\n",
       "      <th>1113110</th>\n",
       "      <td>game</td>\n",
       "      <td>The Stranger: Interactive Film</td>\n",
       "      <td>0</td>\n",
       "      <td>False</td>\n",
       "      <td>- You decide the course of story!&lt;br /&gt;\\r\\n- I...</td>\n",
       "      <td>- You decide the course of story!&lt;br /&gt;\\r\\n- I...</td>\n",
       "      <td>The Story: Your wife died in a boat accident. ...</td>\n",
       "      <td>English&lt;strong&gt;*&lt;/strong&gt;&lt;br&gt;&lt;strong&gt;*&lt;/strong...</td>\n",
       "      <td>https://cdn.akamai.steamstatic.com/steam/apps/...</td>\n",
       "      <td>https://www.giovannialtrui.com/the-stranger-app</td>\n",
       "      <td>...</td>\n",
       "      <td>2</td>\n",
       "      <td>NaN</td>\n",
       "      <td>NaN</td>\n",
       "      <td>NaN</td>\n",
       "      <td>NaN</td>\n",
       "      <td>NaN</td>\n",
       "      <td>NaN</td>\n",
       "      <td>NaN</td>\n",
       "      <td>NaN</td>\n",
       "      <td>NaN</td>\n",
       "    </tr>\n",
       "  </tbody>\n",
       "</table>\n",
       "<p>4622 rows × 43 columns</p>\n",
       "</div>"
      ],
      "text/plain": [
       "             type                            name  required_age  is_free  \\\n",
       "steam_appid                                                                \n",
       "1198490      game        All That Remains: Part 1             0    False   \n",
       "1198510      game                       Paperball             0    False   \n",
       "1198550      game                        Moderium             0    False   \n",
       "1198600      game            Pizza Time Explosion             0    False   \n",
       "1198630      game            Customer Cums First!             0    False   \n",
       "...           ...                             ...           ...      ...   \n",
       "1113770      game                 Lunch A Palooza             0    False   \n",
       "1113780      game     Uncharted Tides: Port Royal             0    False   \n",
       "1113000      game                Persona 4 Golden             0    False   \n",
       "1113060      game    Magic Farm 3: The Ice Danger             0    False   \n",
       "1113110      game  The Stranger: Interactive Film             0    False   \n",
       "\n",
       "                                          detailed_description  \\\n",
       "steam_appid                                                      \n",
       "1198490      “Duncan Price is paranoid” they used to say. H...   \n",
       "1198510      It's time to get rolling!<br><br>Navigate tric...   \n",
       "1198550      Moderium is a Wave-Based Isometric Action Role...   \n",
       "1198600      <img src=\"https://cdn.akamai.steamstatic.com/s...   \n",
       "1198630      <img src=\"https://cdn.akamai.steamstatic.com/s...   \n",
       "...                                                        ...   \n",
       "1113770      <img src=\"https://cdn.akamai.steamstatic.com/s...   \n",
       "1113780      Mason Owens is missing for decades, and yet hi...   \n",
       "1113000      <h1>Digital Deluxe Edition</h1><p><img src=\"ht...   \n",
       "1113060      Magic Farm 3: The Ice Danger is an adventure a...   \n",
       "1113110      - You decide the course of story!<br />\\r\\n- I...   \n",
       "\n",
       "                                                about_the_game  \\\n",
       "steam_appid                                                      \n",
       "1198490      “Duncan Price is paranoid” they used to say. H...   \n",
       "1198510      It's time to get rolling!<br><br>Navigate tric...   \n",
       "1198550      Moderium is a Wave-Based Isometric Action Role...   \n",
       "1198600      <img src=\"https://cdn.akamai.steamstatic.com/s...   \n",
       "1198630      <img src=\"https://cdn.akamai.steamstatic.com/s...   \n",
       "...                                                        ...   \n",
       "1113770      <img src=\"https://cdn.akamai.steamstatic.com/s...   \n",
       "1113780      Mason Owens is missing for decades, and yet hi...   \n",
       "1113000      <img src=\"https://cdn.akamai.steamstatic.com/s...   \n",
       "1113060      Magic Farm 3: The Ice Danger is an adventure a...   \n",
       "1113110      - You decide the course of story!<br />\\r\\n- I...   \n",
       "\n",
       "                                             short_description  \\\n",
       "steam_appid                                                      \n",
       "1198490      “Duncan Price is paranoid” they used to say. H...   \n",
       "1198510      It's time to get rolling! Navigate tricky pass...   \n",
       "1198550      Conquer waves of encroaching enemies in this A...   \n",
       "1198600                        Welcome to the Pizza Dimension!   \n",
       "1198630      It's just like any other shopping district in ...   \n",
       "...                                                        ...   \n",
       "1113770      Lunch A Palooza is a game for everyone! With i...   \n",
       "1113780      Dead men tell no tales! And tales about an inf...   \n",
       "1113000      A coming of age story that sets the protagonis...   \n",
       "1113060      &quot;Magic Farm 3: The Ice Danger&quot; is a ...   \n",
       "1113110      The Story: Your wife died in a boat accident. ...   \n",
       "\n",
       "                                           supported_languages  \\\n",
       "steam_appid                                                      \n",
       "1198490      English<strong>*</strong>, French, Italian, Ge...   \n",
       "1198510      English<strong>*</strong>, German, Japanese, D...   \n",
       "1198550      English<strong>*</strong><br><strong>*</strong...   \n",
       "1198600                                                English   \n",
       "1198630                                                English   \n",
       "...                                                        ...   \n",
       "1113770      English, French, Italian, German, Spanish - Sp...   \n",
       "1113780      English<strong>*</strong>, French, Italian, Ge...   \n",
       "1113000      English<strong>*</strong>, Japanese<strong>*</...   \n",
       "1113060                                                English   \n",
       "1113110      English<strong>*</strong><br><strong>*</strong...   \n",
       "\n",
       "                                                  header_image  \\\n",
       "steam_appid                                                      \n",
       "1198490      https://cdn.akamai.steamstatic.com/steam/apps/...   \n",
       "1198510      https://cdn.akamai.steamstatic.com/steam/apps/...   \n",
       "1198550      https://cdn.akamai.steamstatic.com/steam/apps/...   \n",
       "1198600      https://cdn.akamai.steamstatic.com/steam/apps/...   \n",
       "1198630      https://cdn.akamai.steamstatic.com/steam/apps/...   \n",
       "...                                                        ...   \n",
       "1113770      https://cdn.akamai.steamstatic.com/steam/apps/...   \n",
       "1113780      https://cdn.akamai.steamstatic.com/steam/apps/...   \n",
       "1113000      https://cdn.akamai.steamstatic.com/steam/apps/...   \n",
       "1113060      https://cdn.akamai.steamstatic.com/steam/apps/...   \n",
       "1113110      https://cdn.akamai.steamstatic.com/steam/apps/...   \n",
       "\n",
       "                                                       website  ...  \\\n",
       "steam_appid                                                     ...   \n",
       "1198490                                  https://glitch.games/  ...   \n",
       "1198510                http://cliax-games.com/games/paperball/  ...   \n",
       "1198550                                                    NaN  ...   \n",
       "1198600      https://electric-prune-juice.itch.io/pizza-tim...  ...   \n",
       "1198630                           https://cherrykissgames.com/  ...   \n",
       "...                                                        ...  ...   \n",
       "1113770      http://www.alternativesoft.co.uk/lunch-a-paloo...  ...   \n",
       "1113780                          https://www.artifexmundi.com/  ...   \n",
       "1113000                                                    NaN  ...   \n",
       "1113060                                                    NaN  ...   \n",
       "1113110        https://www.giovannialtrui.com/the-stranger-app  ...   \n",
       "\n",
       "            total_reviews controller_support                          dlc  \\\n",
       "steam_appid                                                                 \n",
       "1198490                 4                NaN                          NaN   \n",
       "1198510               134               full  [1209620, 1209621, 1285150]   \n",
       "1198550                 1                NaN                          NaN   \n",
       "1198600                18               full                    [1220660]   \n",
       "1198630                10                NaN                          NaN   \n",
       "...                   ...                ...                          ...   \n",
       "1113770                13               full                          NaN   \n",
       "1113780                30                NaN                          NaN   \n",
       "1113000             29998               full                          NaN   \n",
       "1113060                 4                NaN                          NaN   \n",
       "1113110                 2                NaN                          NaN   \n",
       "\n",
       "                                               demos   recommendations  \\\n",
       "steam_appid                                                              \n",
       "1198490                                          NaN               NaN   \n",
       "1198510      [{'appid': 1219680, 'description': ''}]    {'total': 143}   \n",
       "1198550      [{'appid': 1220740, 'description': ''}]               NaN   \n",
       "1198600                                          NaN               NaN   \n",
       "1198630                                          NaN               NaN   \n",
       "...                                              ...               ...   \n",
       "1113770                                          NaN               NaN   \n",
       "1113780                                          NaN               NaN   \n",
       "1113000                                          NaN  {'total': 42884}   \n",
       "1113060      [{'appid': 1113180, 'description': ''}]               NaN   \n",
       "1113110                                          NaN               NaN   \n",
       "\n",
       "                                                  achievements  \\\n",
       "steam_appid                                                      \n",
       "1198490                                                    NaN   \n",
       "1198510      {'total': 37, 'highlighted': [{'name': 'Ready ...   \n",
       "1198550                                                    NaN   \n",
       "1198600      {'total': 32, 'highlighted': [{'name': 'Pizza ...   \n",
       "1198630      {'total': 18, 'highlighted': [{'name': \"Now th...   \n",
       "...                                                        ...   \n",
       "1113770      {'total': 21, 'highlighted': [{'name': 'You go...   \n",
       "1113780      {'total': 22, 'highlighted': [{'name': 'Cursed...   \n",
       "1113000      {'total': 50, 'highlighted': [{'name': 'Golden...   \n",
       "1113060      {'total': 27, 'highlighted': [{'name': 'Insect...   \n",
       "1113110                                                    NaN   \n",
       "\n",
       "                                                       reviews  \\\n",
       "steam_appid                                                      \n",
       "1198490                                                    NaN   \n",
       "1198510                                                    NaN   \n",
       "1198550                                                    NaN   \n",
       "1198600                                                    NaN   \n",
       "1198630                                                    NaN   \n",
       "...                                                        ...   \n",
       "1113770                                                    NaN   \n",
       "1113780                                                    NaN   \n",
       "1113000      “You can now enjoy the masterpiece in its best...   \n",
       "1113060                                                    NaN   \n",
       "1113110                                                    NaN   \n",
       "\n",
       "            ext_user_account_notice metacritic          drm_notice  \n",
       "steam_appid                                                         \n",
       "1198490                         NaN        NaN                 NaN  \n",
       "1198510                         NaN        NaN                 NaN  \n",
       "1198550                         NaN        NaN                 NaN  \n",
       "1198600                         NaN        NaN                 NaN  \n",
       "1198630                         NaN        NaN                 NaN  \n",
       "...                             ...        ...                 ...  \n",
       "1113770                         NaN        NaN                 NaN  \n",
       "1113780                         NaN        NaN                 NaN  \n",
       "1113000                         NaN        NaN  Denuvo Anti-tamper  \n",
       "1113060                         NaN        NaN                 NaN  \n",
       "1113110                         NaN        NaN                 NaN  \n",
       "\n",
       "[4622 rows x 43 columns]"
      ]
     },
     "execution_count": 4,
     "metadata": {},
     "output_type": "execute_result"
    }
   ],
   "source": [
    "# Read the metadata file\n",
    "file_name = 'database_cleaned.csv'\n",
    "df = pd.read_csv(os.path.join(data_dir, file_name), header=0, index_col=0)\n",
    "df"
   ]
  },
  {
   "cell_type": "code",
   "execution_count": 5,
   "id": "09496721",
   "metadata": {},
   "outputs": [],
   "source": [
    "df = df.reset_index()"
   ]
  },
  {
   "cell_type": "code",
   "execution_count": 6,
   "id": "e8a4e84e",
   "metadata": {
    "scrolled": false
   },
   "outputs": [
    {
     "data": {
      "text/plain": [
       "Index(['steam_appid', 'type', 'name', 'required_age', 'is_free',\n",
       "       'detailed_description', 'about_the_game', 'short_description',\n",
       "       'supported_languages', 'header_image', 'website', 'pc_requirements',\n",
       "       'mac_requirements', 'linux_requirements', 'legal_notice', 'developers',\n",
       "       'publishers', 'price_overview', 'packages', 'package_groups',\n",
       "       'platforms', 'categories', 'genres', 'screenshots', 'movies',\n",
       "       'release_date', 'support_info', 'background', 'content_descriptors',\n",
       "       'num_reviews', 'review_score', 'review_score_desc', 'total_positive',\n",
       "       'total_negative', 'total_reviews', 'controller_support', 'dlc', 'demos',\n",
       "       'recommendations', 'achievements', 'reviews', 'ext_user_account_notice',\n",
       "       'metacritic', 'drm_notice'],\n",
       "      dtype='object')"
      ]
     },
     "execution_count": 6,
     "metadata": {},
     "output_type": "execute_result"
    }
   ],
   "source": [
    "df.columns"
   ]
  },
  {
   "cell_type": "code",
   "execution_count": 7,
   "id": "3f1363d8",
   "metadata": {},
   "outputs": [
    {
     "ename": "NameError",
     "evalue": "name 'xxxxxxxxx' is not defined",
     "output_type": "error",
     "traceback": [
      "\u001b[1;31m---------------------------------------------------------------------------\u001b[0m",
      "\u001b[1;31mNameError\u001b[0m                                 Traceback (most recent call last)",
      "\u001b[1;32m~\\AppData\\Local\\Temp/ipykernel_33024/4280141172.py\u001b[0m in \u001b[0;36m<module>\u001b[1;34m\u001b[0m\n\u001b[1;32m----> 1\u001b[1;33m \u001b[0mxxxxxxxxx\u001b[0m\u001b[1;33m\u001b[0m\u001b[1;33m\u001b[0m\u001b[0m\n\u001b[0m",
      "\u001b[1;31mNameError\u001b[0m: name 'xxxxxxxxx' is not defined"
     ]
    }
   ],
   "source": [
    "xxxxxxxxx"
   ]
  },
  {
   "cell_type": "code",
   "execution_count": 8,
   "id": "b0fc09b3",
   "metadata": {},
   "outputs": [],
   "source": [
    "# Create/connect to the database file\n",
    "conn = sqlite3.connect('Games.db')"
   ]
  },
  {
   "cell_type": "code",
   "execution_count": 9,
   "id": "15579cc6",
   "metadata": {},
   "outputs": [
    {
     "data": {
      "text/plain": [
       "<sqlite3.Cursor at 0x1fb8475d6c0>"
      ]
     },
     "execution_count": 9,
     "metadata": {},
     "output_type": "execute_result"
    }
   ],
   "source": [
    "c = conn.cursor()\n",
    "c"
   ]
  },
  {
   "cell_type": "code",
   "execution_count": 15,
   "id": "6a08d078",
   "metadata": {},
   "outputs": [
    {
     "name": "stdout",
     "output_type": "stream",
     "text": [
      "CREATE TABLE IF NOT EXISTS GAME(\n",
      "    steam_appid INT NOT NULL PRIMARY KEY,\n",
      "    name VARCHAR,\n",
      "    required_age INT,\n",
      ")\n"
     ]
    }
   ],
   "source": [
    "print(sql_command)"
   ]
  },
  {
   "cell_type": "code",
   "execution_count": 37,
   "id": "5e9c9e8d",
   "metadata": {},
   "outputs": [
    {
     "data": {
      "text/plain": [
       "<sqlite3.Cursor at 0x1fb8475d6c0>"
      ]
     },
     "execution_count": 37,
     "metadata": {},
     "output_type": "execute_result"
    }
   ],
   "source": [
    "c.execute(sql_command)"
   ]
  },
  {
   "cell_type": "code",
   "execution_count": 23,
   "id": "f8252240",
   "metadata": {},
   "outputs": [],
   "source": [
    "resp = c.execute(\"SELECT * FROM EMPLOYEE\")"
   ]
  },
  {
   "cell_type": "code",
   "execution_count": null,
   "id": "c1751771",
   "metadata": {},
   "outputs": [],
   "source": [
    "sql_create_games_table = \"\"\" CREATE TABLE IF NOT EXISTS projects (\n",
    "id integer PRIMARY KEY,\n",
    "name text NOT NULL,\n",
    "begin_date text,\n",
    "end_date text\n",
    "); \"\"\""
   ]
  },
  {
   "cell_type": "code",
   "execution_count": null,
   "id": "07908d01",
   "metadata": {},
   "outputs": [],
   "source": [
    "print(sql_create_games_table)"
   ]
  },
  {
   "cell_type": "code",
   "execution_count": null,
   "id": "ea9989b1",
   "metadata": {},
   "outputs": [],
   "source": [
    "# Declarative base class\n",
    "Base = declarative_base()\n",
    "\n",
    "# Table inheriting from the base\n",
    "class Games(Base):\n",
    "    __tablename__ = 'user'\n",
    "\n",
    "    steam_appid = Column(Integer, primary_key=True)\n",
    "    name = Column(String)\n",
    "    required_age = Column(Integer)\n",
    "    review_score = Column(Integer)"
   ]
  },
  {
   "cell_type": "code",
   "execution_count": null,
   "id": "a420bc62",
   "metadata": {},
   "outputs": [],
   "source": [
    "engine = create_engine('sqlite:///Games.db')\n",
    "Base.metadata.create_all(engine)"
   ]
  },
  {
   "cell_type": "code",
   "execution_count": null,
   "id": "ad440e44",
   "metadata": {},
   "outputs": [],
   "source": [
    "# Bind the engine to the metadata of the Base class so that the\n",
    "# declaratives can be accessed through a DBSession instance\n",
    "Base.metadata.bind = engine\n",
    "DBSession = sessionmaker(bind=engine)\n",
    "session = DBSession()"
   ]
  },
  {
   "cell_type": "code",
   "execution_count": 25,
   "id": "32be8e75",
   "metadata": {},
   "outputs": [
    {
     "data": {
      "text/plain": [
       "'Connected: @Games.db'"
      ]
     },
     "execution_count": 25,
     "metadata": {},
     "output_type": "execute_result"
    }
   ],
   "source": [
    "# Connecting to database:\n",
    "%sql sqlite:///Games.db"
   ]
  },
  {
   "cell_type": "code",
   "execution_count": 26,
   "id": "88b3ea3c",
   "metadata": {},
   "outputs": [
    {
     "name": "stdout",
     "output_type": "stream",
     "text": [
      " * sqlite:///Games.db\n",
      "Done.\n"
     ]
    },
    {
     "data": {
      "text/html": [
       "<table>\n",
       "    <thead>\n",
       "        <tr>\n",
       "            <th>FIRST_NAME</th>\n",
       "            <th>LAST_NAME</th>\n",
       "            <th>AGE</th>\n",
       "        </tr>\n",
       "    </thead>\n",
       "    <tbody>\n",
       "    </tbody>\n",
       "</table>"
      ],
      "text/plain": [
       "[]"
      ]
     },
     "execution_count": 26,
     "metadata": {},
     "output_type": "execute_result"
    }
   ],
   "source": [
    "%%sql\n",
    "SELECT * FROM EMPLOYEE"
   ]
  },
  {
   "cell_type": "code",
   "execution_count": 40,
   "id": "54745364",
   "metadata": {},
   "outputs": [
    {
     "name": "stdout",
     "output_type": "stream",
     "text": [
      " * sqlite:///Games.db\n",
      "Done.\n"
     ]
    },
    {
     "data": {
      "text/html": [
       "<table>\n",
       "    <thead>\n",
       "        <tr>\n",
       "            <th>steam_appid</th>\n",
       "            <th>name</th>\n",
       "            <th>required_age</th>\n",
       "        </tr>\n",
       "    </thead>\n",
       "    <tbody>\n",
       "    </tbody>\n",
       "</table>"
      ],
      "text/plain": [
       "[]"
      ]
     },
     "execution_count": 40,
     "metadata": {},
     "output_type": "execute_result"
    }
   ],
   "source": [
    "%%sql\n",
    "SELECT * FROM Game"
   ]
  },
  {
   "cell_type": "code",
   "execution_count": null,
   "id": "d4d4f664",
   "metadata": {},
   "outputs": [],
   "source": [
    "# Create/connect to the database file\n",
    "# conn = sqlite3.connect('mydatabase.db')"
   ]
  },
  {
   "cell_type": "code",
   "execution_count": null,
   "id": "59d208b6",
   "metadata": {},
   "outputs": [],
   "source": [
    "#Creating a cursor object using the cursor() method\n",
    "# cursor = conn.cursor()"
   ]
  },
  {
   "cell_type": "code",
   "execution_count": null,
   "id": "65b48299",
   "metadata": {},
   "outputs": [],
   "source": [
    "# Command to crete table for games\n",
    "# sql_command =\"\"\"CREATE TABLE EMPLOYEE(\n",
    "#    FIRST_NAME VARCHAR NOT NULL PRIMARY KEY,\n",
    "#    LAST_NAME VARCHAR,\n",
    "# #    AGE INT\n",
    "# )\"\"\"\n",
    "# sql_command"
   ]
  },
  {
   "cell_type": "code",
   "execution_count": null,
   "id": "3cf5cd27",
   "metadata": {},
   "outputs": [],
   "source": [
    "# cursor.execute(sql_command)"
   ]
  },
  {
   "cell_type": "code",
   "execution_count": null,
   "id": "098b1447",
   "metadata": {},
   "outputs": [],
   "source": [
    "# # cursor.execute(\"SELECT * FROM EMPLOYEE\")\n",
    "# rows = cursor.fetchall()"
   ]
  },
  {
   "cell_type": "code",
   "execution_count": null,
   "id": "c9737280",
   "metadata": {},
   "outputs": [],
   "source": [
    "DBSession = sessionmaker(bind=engine)\n",
    "session = DBSession()"
   ]
  },
  {
   "cell_type": "code",
   "execution_count": 29,
   "id": "d455ce39",
   "metadata": {},
   "outputs": [],
   "source": [
    "column_names = ['steam_appid', 'name', 'required_age']\n",
    "column_data_types = ['INT', 'VARCHAR', 'INT']"
   ]
  },
  {
   "cell_type": "code",
   "execution_count": 35,
   "id": "d91ebdf0",
   "metadata": {},
   "outputs": [
    {
     "data": {
      "text/plain": [
       "'CREATE TABLE IF NOT EXISTS GAME(\\n    steam_appid INT NOT NULL PRIMARY KEY,\\n    name VARCHAR,\\n    required_age INT\\n)'"
      ]
     },
     "execution_count": 35,
     "metadata": {},
     "output_type": "execute_result"
    }
   ],
   "source": [
    "# Create sql command for table creation\n",
    "sql_command = \"\"\n",
    "sql_command +=  f\"CREATE TABLE IF NOT EXISTS GAME(\\n\"\n",
    "for idx, column_name in enumerate(column_names):\n",
    "    sql_command += f\"    {column_name} {column_data_types[idx]}\"\n",
    "    if(idx==0):\n",
    "        sql_command += \" NOT NULL PRIMARY KEY\"\n",
    "    if(idx!=len(column_names)-1):\n",
    "        sql_command += \",\"\n",
    "    sql_command += \"\\n\"\n",
    "        \n",
    "sql_command +=  \")\"\n",
    "sql_command"
   ]
  },
  {
   "cell_type": "code",
   "execution_count": 36,
   "id": "c5072c9c",
   "metadata": {
    "scrolled": true
   },
   "outputs": [
    {
     "name": "stdout",
     "output_type": "stream",
     "text": [
      "CREATE TABLE IF NOT EXISTS GAME(\n",
      "    steam_appid INT NOT NULL PRIMARY KEY,\n",
      "    name VARCHAR,\n",
      "    required_age INT\n",
      ")\n"
     ]
    }
   ],
   "source": [
    "print(sql_command)"
   ]
  },
  {
   "cell_type": "code",
   "execution_count": null,
   "id": "5bd54ef5",
   "metadata": {},
   "outputs": [],
   "source": [
    "engine.execute(sql_command)"
   ]
  },
  {
   "cell_type": "code",
   "execution_count": 18,
   "id": "469edf1a",
   "metadata": {},
   "outputs": [],
   "source": [
    "sql_command =\"\"\"CREATE TABLE EMPLOYEE(\n",
    "    FIRST_NAME VARCHAR NOT NULL PRIMARY KEY,\n",
    "    LAST_NAME VARCHAR,\n",
    "    AGE INT\n",
    ")\"\"\""
   ]
  },
  {
   "cell_type": "code",
   "execution_count": 19,
   "id": "9cc70bcb",
   "metadata": {},
   "outputs": [
    {
     "data": {
      "text/plain": [
       "'CREATE TABLE EMPLOYEE(\\n    FIRST_NAME VARCHAR NOT NULL PRIMARY KEY,\\n    LAST_NAME VARCHAR,\\n    AGE INT\\n)'"
      ]
     },
     "execution_count": 19,
     "metadata": {},
     "output_type": "execute_result"
    }
   ],
   "source": [
    "sql_command"
   ]
  },
  {
   "cell_type": "code",
   "execution_count": 20,
   "id": "96293628",
   "metadata": {
    "scrolled": true
   },
   "outputs": [
    {
     "name": "stdout",
     "output_type": "stream",
     "text": [
      "CREATE TABLE EMPLOYEE(\n",
      "    FIRST_NAME VARCHAR NOT NULL PRIMARY KEY,\n",
      "    LAST_NAME VARCHAR,\n",
      "    AGE INT\n",
      ")\n"
     ]
    }
   ],
   "source": [
    "print(sql_command)"
   ]
  },
  {
   "cell_type": "code",
   "execution_count": null,
   "id": "2b87421c",
   "metadata": {
    "scrolled": true
   },
   "outputs": [],
   "source": [
    "engine.execute(sql_command)"
   ]
  },
  {
   "cell_type": "code",
   "execution_count": null,
   "id": "6b2adcdf",
   "metadata": {},
   "outputs": [],
   "source": [
    "%%sql\n",
    "SELECT * FROM EMPLOYEE"
   ]
  },
  {
   "cell_type": "code",
   "execution_count": null,
   "id": "b15eca13",
   "metadata": {},
   "outputs": [],
   "source": [
    "# Delete table\n",
    "sql = 'DROP TABLE IF EXISTS EMPLOYEE;'\n",
    "result = engine.execute(sql)"
   ]
  },
  {
   "cell_type": "code",
   "execution_count": null,
   "id": "dc746ce9",
   "metadata": {},
   "outputs": [],
   "source": [
    "%%sql\n",
    "SELECT * FROM EMPLOYEE"
   ]
  },
  {
   "cell_type": "code",
   "execution_count": null,
   "id": "842519cb",
   "metadata": {},
   "outputs": [],
   "source": [
    "# %%sql\n",
    "\n",
    "# Insert values into the table `user`\n",
    "\n",
    "sql = \"\"\"INSERT INTO Game(steam_appid, name, game_type)\n",
    "    VALUES (2,'ece','horror'), \n",
    "    (3,'xx','fun');\"\"\""
   ]
  },
  {
   "cell_type": "code",
   "execution_count": null,
   "id": "9701e663",
   "metadata": {},
   "outputs": [],
   "source": [
    "engine.execute(sql)"
   ]
  }
 ],
 "metadata": {
  "kernelspec": {
   "display_name": "Python 3 (ipykernel)",
   "language": "python",
   "name": "python3"
  },
  "language_info": {
   "codemirror_mode": {
    "name": "ipython",
    "version": 3
   },
   "file_extension": ".py",
   "mimetype": "text/x-python",
   "name": "python",
   "nbconvert_exporter": "python",
   "pygments_lexer": "ipython3",
   "version": "3.9.7"
  }
 },
 "nbformat": 4,
 "nbformat_minor": 5
}
