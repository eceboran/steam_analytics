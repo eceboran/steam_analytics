{
 "cells": [
  {
   "cell_type": "code",
   "execution_count": 1,
   "id": "039be2d1",
   "metadata": {},
   "outputs": [],
   "source": [
    "# Import necessary libraries\n",
    "import sys\n",
    "import os\n",
    "import numpy as np\n",
    "import pandas as pd\n",
    "# import json\n",
    "import sqlite3\n",
    "%load_ext sql"
   ]
  },
  {
   "cell_type": "code",
   "execution_count": 2,
   "id": "d964e2e9",
   "metadata": {},
   "outputs": [],
   "source": [
    "# from sqlalchemy import Column, Integer, String, ForeignKey\n",
    "# from sqlalchemy.orm import declarative_base\n",
    "# from sqlalchemy import create_engine\n",
    "# from sqlalchemy.orm import sessionmaker"
   ]
  },
  {
   "cell_type": "code",
   "execution_count": 3,
   "id": "c7d00c65",
   "metadata": {},
   "outputs": [],
   "source": [
    "# Directories\n",
    "# Main directory\n",
    "main_dir = os.path.abspath('..\\\\\\\\..\\\\\\\\')\n",
    "# Data directory\n",
    "data_dir = os.path.join(main_dir, 'Data')\n",
    "# Source data directory\n",
    "data_source_dir = os.path.join(main_dir, 'Data', 'Source')\n",
    "# Preprocessing data directory\n",
    "data_preproc_dir = os.path.join(main_dir, 'Data', 'Preprocessing')\n",
    "# Database data directory\n",
    "data_database_dir = os.path.join(main_dir, 'Data', 'Database')"
   ]
  },
  {
   "cell_type": "code",
   "execution_count": 4,
   "id": "073793d7",
   "metadata": {},
   "outputs": [
    {
     "data": {
      "text/html": [
       "<div>\n",
       "<style scoped>\n",
       "    .dataframe tbody tr th:only-of-type {\n",
       "        vertical-align: middle;\n",
       "    }\n",
       "\n",
       "    .dataframe tbody tr th {\n",
       "        vertical-align: top;\n",
       "    }\n",
       "\n",
       "    .dataframe thead th {\n",
       "        text-align: right;\n",
       "    }\n",
       "</style>\n",
       "<table border=\"1\" class=\"dataframe\">\n",
       "  <thead>\n",
       "    <tr style=\"text-align: right;\">\n",
       "      <th></th>\n",
       "      <th>type</th>\n",
       "      <th>name</th>\n",
       "      <th>required_age</th>\n",
       "      <th>is_free</th>\n",
       "      <th>supported_languages</th>\n",
       "      <th>pc_requirements</th>\n",
       "      <th>mac_requirements</th>\n",
       "      <th>linux_requirements</th>\n",
       "      <th>legal_notice</th>\n",
       "      <th>developers</th>\n",
       "      <th>...</th>\n",
       "      <th>metacritic</th>\n",
       "      <th>drm_notice</th>\n",
       "      <th>currency</th>\n",
       "      <th>initial</th>\n",
       "      <th>final</th>\n",
       "      <th>discount_percent</th>\n",
       "      <th>initial_formatted</th>\n",
       "      <th>final_formatted</th>\n",
       "      <th>recurring_sub</th>\n",
       "      <th>recurring_sub_desc</th>\n",
       "    </tr>\n",
       "    <tr>\n",
       "      <th>steam_appid</th>\n",
       "      <th></th>\n",
       "      <th></th>\n",
       "      <th></th>\n",
       "      <th></th>\n",
       "      <th></th>\n",
       "      <th></th>\n",
       "      <th></th>\n",
       "      <th></th>\n",
       "      <th></th>\n",
       "      <th></th>\n",
       "      <th></th>\n",
       "      <th></th>\n",
       "      <th></th>\n",
       "      <th></th>\n",
       "      <th></th>\n",
       "      <th></th>\n",
       "      <th></th>\n",
       "      <th></th>\n",
       "      <th></th>\n",
       "      <th></th>\n",
       "      <th></th>\n",
       "    </tr>\n",
       "  </thead>\n",
       "  <tbody>\n",
       "    <tr>\n",
       "      <th>1198490</th>\n",
       "      <td>game</td>\n",
       "      <td>All That Remains: Part 1</td>\n",
       "      <td>0</td>\n",
       "      <td>False</td>\n",
       "      <td>English&lt;strong&gt;*&lt;/strong&gt;, French, Italian, Ge...</td>\n",
       "      <td>{'minimum': '&lt;strong&gt;Minimum:&lt;/strong&gt;&lt;br&gt;&lt;ul ...</td>\n",
       "      <td>{'minimum': '&lt;strong&gt;Minimum:&lt;/strong&gt;&lt;br&gt;&lt;ul ...</td>\n",
       "      <td>[]</td>\n",
       "      <td>Copyright Glitch Games Ltd 2012 - 2021</td>\n",
       "      <td>['Glitch Games']</td>\n",
       "      <td>...</td>\n",
       "      <td>NaN</td>\n",
       "      <td>NaN</td>\n",
       "      <td>EUR</td>\n",
       "      <td>2.39</td>\n",
       "      <td>239.0</td>\n",
       "      <td>0.0</td>\n",
       "      <td>NaN</td>\n",
       "      <td>2,39€</td>\n",
       "      <td>NaN</td>\n",
       "      <td>NaN</td>\n",
       "    </tr>\n",
       "    <tr>\n",
       "      <th>1198510</th>\n",
       "      <td>game</td>\n",
       "      <td>Paperball</td>\n",
       "      <td>0</td>\n",
       "      <td>False</td>\n",
       "      <td>English&lt;strong&gt;*&lt;/strong&gt;, German, Japanese, D...</td>\n",
       "      <td>{'minimum': '&lt;strong&gt;Minimum:&lt;/strong&gt;&lt;br&gt;&lt;ul ...</td>\n",
       "      <td>[]</td>\n",
       "      <td>[]</td>\n",
       "      <td>NaN</td>\n",
       "      <td>['Cliax Games']</td>\n",
       "      <td>...</td>\n",
       "      <td>NaN</td>\n",
       "      <td>NaN</td>\n",
       "      <td>EUR</td>\n",
       "      <td>9.99</td>\n",
       "      <td>999.0</td>\n",
       "      <td>0.0</td>\n",
       "      <td>NaN</td>\n",
       "      <td>9,99€</td>\n",
       "      <td>NaN</td>\n",
       "      <td>NaN</td>\n",
       "    </tr>\n",
       "    <tr>\n",
       "      <th>1198550</th>\n",
       "      <td>game</td>\n",
       "      <td>Moderium</td>\n",
       "      <td>0</td>\n",
       "      <td>False</td>\n",
       "      <td>English&lt;strong&gt;*&lt;/strong&gt;&lt;br&gt;&lt;strong&gt;*&lt;/strong...</td>\n",
       "      <td>{'minimum': '&lt;strong&gt;Minimum:&lt;/strong&gt;&lt;br&gt;&lt;ul ...</td>\n",
       "      <td>[]</td>\n",
       "      <td>[]</td>\n",
       "      <td>NaN</td>\n",
       "      <td>['All Saints Gaming']</td>\n",
       "      <td>...</td>\n",
       "      <td>NaN</td>\n",
       "      <td>NaN</td>\n",
       "      <td>EUR</td>\n",
       "      <td>0.79</td>\n",
       "      <td>79.0</td>\n",
       "      <td>0.0</td>\n",
       "      <td>NaN</td>\n",
       "      <td>0,79€</td>\n",
       "      <td>NaN</td>\n",
       "      <td>NaN</td>\n",
       "    </tr>\n",
       "    <tr>\n",
       "      <th>1198600</th>\n",
       "      <td>game</td>\n",
       "      <td>Pizza Time Explosion</td>\n",
       "      <td>0</td>\n",
       "      <td>False</td>\n",
       "      <td>English</td>\n",
       "      <td>{'minimum': '&lt;strong&gt;Minimum:&lt;/strong&gt;&lt;br&gt;&lt;ul ...</td>\n",
       "      <td>[]</td>\n",
       "      <td>[]</td>\n",
       "      <td>\"Pizza Time Explosion\" game software is © 2019...</td>\n",
       "      <td>['Electric Prune Juice']</td>\n",
       "      <td>...</td>\n",
       "      <td>NaN</td>\n",
       "      <td>NaN</td>\n",
       "      <td>EUR</td>\n",
       "      <td>4.99</td>\n",
       "      <td>499.0</td>\n",
       "      <td>0.0</td>\n",
       "      <td>NaN</td>\n",
       "      <td>4,99€</td>\n",
       "      <td>NaN</td>\n",
       "      <td>NaN</td>\n",
       "    </tr>\n",
       "    <tr>\n",
       "      <th>1198630</th>\n",
       "      <td>game</td>\n",
       "      <td>Customer Cums First!</td>\n",
       "      <td>0</td>\n",
       "      <td>False</td>\n",
       "      <td>English</td>\n",
       "      <td>{'minimum': '&lt;strong&gt;Minimum:&lt;/strong&gt;&lt;br&gt;&lt;ul ...</td>\n",
       "      <td>{'minimum': '&lt;strong&gt;Minimum:&lt;/strong&gt;&lt;br&gt;&lt;ul ...</td>\n",
       "      <td>{'minimum': '&lt;strong&gt;Minimum:&lt;/strong&gt;&lt;br&gt;&lt;ul ...</td>\n",
       "      <td>NaN</td>\n",
       "      <td>['Miel']</td>\n",
       "      <td>...</td>\n",
       "      <td>NaN</td>\n",
       "      <td>NaN</td>\n",
       "      <td>EUR</td>\n",
       "      <td>9.99</td>\n",
       "      <td>999.0</td>\n",
       "      <td>0.0</td>\n",
       "      <td>NaN</td>\n",
       "      <td>9,99€</td>\n",
       "      <td>NaN</td>\n",
       "      <td>NaN</td>\n",
       "    </tr>\n",
       "    <tr>\n",
       "      <th>...</th>\n",
       "      <td>...</td>\n",
       "      <td>...</td>\n",
       "      <td>...</td>\n",
       "      <td>...</td>\n",
       "      <td>...</td>\n",
       "      <td>...</td>\n",
       "      <td>...</td>\n",
       "      <td>...</td>\n",
       "      <td>...</td>\n",
       "      <td>...</td>\n",
       "      <td>...</td>\n",
       "      <td>...</td>\n",
       "      <td>...</td>\n",
       "      <td>...</td>\n",
       "      <td>...</td>\n",
       "      <td>...</td>\n",
       "      <td>...</td>\n",
       "      <td>...</td>\n",
       "      <td>...</td>\n",
       "      <td>...</td>\n",
       "      <td>...</td>\n",
       "    </tr>\n",
       "    <tr>\n",
       "      <th>1113770</th>\n",
       "      <td>game</td>\n",
       "      <td>Lunch A Palooza</td>\n",
       "      <td>0</td>\n",
       "      <td>False</td>\n",
       "      <td>English, French, Italian, German, Spanish - Sp...</td>\n",
       "      <td>{'minimum': '&lt;strong&gt;Minimum:&lt;/strong&gt;&lt;br&gt;&lt;ul ...</td>\n",
       "      <td>{'minimum': '&lt;strong&gt;Minimum:&lt;/strong&gt;&lt;br&gt;&lt;ul ...</td>\n",
       "      <td>[]</td>\n",
       "      <td>©2019 Alternative Software Ltd.&lt;br /&gt;\\r\\n©2019...</td>\n",
       "      <td>['Seashell Studio']</td>\n",
       "      <td>...</td>\n",
       "      <td>NaN</td>\n",
       "      <td>NaN</td>\n",
       "      <td>EUR</td>\n",
       "      <td>10.79</td>\n",
       "      <td>1079.0</td>\n",
       "      <td>0.0</td>\n",
       "      <td>NaN</td>\n",
       "      <td>10,79€</td>\n",
       "      <td>NaN</td>\n",
       "      <td>NaN</td>\n",
       "    </tr>\n",
       "    <tr>\n",
       "      <th>1113780</th>\n",
       "      <td>game</td>\n",
       "      <td>Uncharted Tides: Port Royal</td>\n",
       "      <td>0</td>\n",
       "      <td>False</td>\n",
       "      <td>English&lt;strong&gt;*&lt;/strong&gt;, French, Italian, Ge...</td>\n",
       "      <td>{'minimum': '&lt;strong&gt;Minimum:&lt;/strong&gt;&lt;br&gt;&lt;ul ...</td>\n",
       "      <td>{'minimum': '&lt;strong&gt;Minimum:&lt;/strong&gt;&lt;br&gt;&lt;ul ...</td>\n",
       "      <td>{'minimum': '&lt;strong&gt;Minimum:&lt;/strong&gt;&lt;br&gt;&lt;ul ...</td>\n",
       "      <td>© 2019 Artifex Mundi S.A. All rights reserved....</td>\n",
       "      <td>['Cordelia Games']</td>\n",
       "      <td>...</td>\n",
       "      <td>NaN</td>\n",
       "      <td>NaN</td>\n",
       "      <td>EUR</td>\n",
       "      <td>14.99</td>\n",
       "      <td>1499.0</td>\n",
       "      <td>0.0</td>\n",
       "      <td>NaN</td>\n",
       "      <td>14,99€</td>\n",
       "      <td>NaN</td>\n",
       "      <td>NaN</td>\n",
       "    </tr>\n",
       "    <tr>\n",
       "      <th>1113000</th>\n",
       "      <td>game</td>\n",
       "      <td>Persona 4 Golden</td>\n",
       "      <td>0</td>\n",
       "      <td>False</td>\n",
       "      <td>English&lt;strong&gt;*&lt;/strong&gt;, Japanese&lt;strong&gt;*&lt;/...</td>\n",
       "      <td>{'minimum': '&lt;strong&gt;Minimum:&lt;/strong&gt;&lt;br&gt;&lt;ul ...</td>\n",
       "      <td>[]</td>\n",
       "      <td>[]</td>\n",
       "      <td>©ATLUS. ©SEGA. All rights reserved.</td>\n",
       "      <td>['ATLUS']</td>\n",
       "      <td>...</td>\n",
       "      <td>NaN</td>\n",
       "      <td>Denuvo Anti-tamper</td>\n",
       "      <td>EUR</td>\n",
       "      <td>19.99</td>\n",
       "      <td>1999.0</td>\n",
       "      <td>0.0</td>\n",
       "      <td>NaN</td>\n",
       "      <td>19,99€</td>\n",
       "      <td>NaN</td>\n",
       "      <td>NaN</td>\n",
       "    </tr>\n",
       "    <tr>\n",
       "      <th>1113060</th>\n",
       "      <td>game</td>\n",
       "      <td>Magic Farm 3: The Ice Danger</td>\n",
       "      <td>0</td>\n",
       "      <td>False</td>\n",
       "      <td>English</td>\n",
       "      <td>{'minimum': '&lt;strong&gt;Minimum:&lt;/strong&gt;&lt;br&gt;&lt;ul ...</td>\n",
       "      <td>[]</td>\n",
       "      <td>[]</td>\n",
       "      <td>NaN</td>\n",
       "      <td>[\"Meridian'93\"]</td>\n",
       "      <td>...</td>\n",
       "      <td>NaN</td>\n",
       "      <td>NaN</td>\n",
       "      <td>EUR</td>\n",
       "      <td>16.79</td>\n",
       "      <td>1679.0</td>\n",
       "      <td>0.0</td>\n",
       "      <td>NaN</td>\n",
       "      <td>16,79€</td>\n",
       "      <td>NaN</td>\n",
       "      <td>NaN</td>\n",
       "    </tr>\n",
       "    <tr>\n",
       "      <th>1113110</th>\n",
       "      <td>game</td>\n",
       "      <td>The Stranger: Interactive Film</td>\n",
       "      <td>0</td>\n",
       "      <td>False</td>\n",
       "      <td>English&lt;strong&gt;*&lt;/strong&gt;&lt;br&gt;&lt;strong&gt;*&lt;/strong...</td>\n",
       "      <td>{'minimum': '&lt;strong&gt;Minimum:&lt;/strong&gt;&lt;br&gt;&lt;ul ...</td>\n",
       "      <td>{'minimum': '&lt;strong&gt;Minimum:&lt;/strong&gt;&lt;br&gt;&lt;ul ...</td>\n",
       "      <td>[]</td>\n",
       "      <td>@Giovanni Altrui&lt;br /&gt;\\r\\nAll rights reserved</td>\n",
       "      <td>['Giovanni Altrui']</td>\n",
       "      <td>...</td>\n",
       "      <td>NaN</td>\n",
       "      <td>NaN</td>\n",
       "      <td>EUR</td>\n",
       "      <td>6.59</td>\n",
       "      <td>659.0</td>\n",
       "      <td>0.0</td>\n",
       "      <td>NaN</td>\n",
       "      <td>6,59€</td>\n",
       "      <td>NaN</td>\n",
       "      <td>NaN</td>\n",
       "    </tr>\n",
       "  </tbody>\n",
       "</table>\n",
       "<p>4622 rows × 46 columns</p>\n",
       "</div>"
      ],
      "text/plain": [
       "             type                            name  required_age  is_free  \\\n",
       "steam_appid                                                                \n",
       "1198490      game        All That Remains: Part 1             0    False   \n",
       "1198510      game                       Paperball             0    False   \n",
       "1198550      game                        Moderium             0    False   \n",
       "1198600      game            Pizza Time Explosion             0    False   \n",
       "1198630      game            Customer Cums First!             0    False   \n",
       "...           ...                             ...           ...      ...   \n",
       "1113770      game                 Lunch A Palooza             0    False   \n",
       "1113780      game     Uncharted Tides: Port Royal             0    False   \n",
       "1113000      game                Persona 4 Golden             0    False   \n",
       "1113060      game    Magic Farm 3: The Ice Danger             0    False   \n",
       "1113110      game  The Stranger: Interactive Film             0    False   \n",
       "\n",
       "                                           supported_languages  \\\n",
       "steam_appid                                                      \n",
       "1198490      English<strong>*</strong>, French, Italian, Ge...   \n",
       "1198510      English<strong>*</strong>, German, Japanese, D...   \n",
       "1198550      English<strong>*</strong><br><strong>*</strong...   \n",
       "1198600                                                English   \n",
       "1198630                                                English   \n",
       "...                                                        ...   \n",
       "1113770      English, French, Italian, German, Spanish - Sp...   \n",
       "1113780      English<strong>*</strong>, French, Italian, Ge...   \n",
       "1113000      English<strong>*</strong>, Japanese<strong>*</...   \n",
       "1113060                                                English   \n",
       "1113110      English<strong>*</strong><br><strong>*</strong...   \n",
       "\n",
       "                                               pc_requirements  \\\n",
       "steam_appid                                                      \n",
       "1198490      {'minimum': '<strong>Minimum:</strong><br><ul ...   \n",
       "1198510      {'minimum': '<strong>Minimum:</strong><br><ul ...   \n",
       "1198550      {'minimum': '<strong>Minimum:</strong><br><ul ...   \n",
       "1198600      {'minimum': '<strong>Minimum:</strong><br><ul ...   \n",
       "1198630      {'minimum': '<strong>Minimum:</strong><br><ul ...   \n",
       "...                                                        ...   \n",
       "1113770      {'minimum': '<strong>Minimum:</strong><br><ul ...   \n",
       "1113780      {'minimum': '<strong>Minimum:</strong><br><ul ...   \n",
       "1113000      {'minimum': '<strong>Minimum:</strong><br><ul ...   \n",
       "1113060      {'minimum': '<strong>Minimum:</strong><br><ul ...   \n",
       "1113110      {'minimum': '<strong>Minimum:</strong><br><ul ...   \n",
       "\n",
       "                                              mac_requirements  \\\n",
       "steam_appid                                                      \n",
       "1198490      {'minimum': '<strong>Minimum:</strong><br><ul ...   \n",
       "1198510                                                     []   \n",
       "1198550                                                     []   \n",
       "1198600                                                     []   \n",
       "1198630      {'minimum': '<strong>Minimum:</strong><br><ul ...   \n",
       "...                                                        ...   \n",
       "1113770      {'minimum': '<strong>Minimum:</strong><br><ul ...   \n",
       "1113780      {'minimum': '<strong>Minimum:</strong><br><ul ...   \n",
       "1113000                                                     []   \n",
       "1113060                                                     []   \n",
       "1113110      {'minimum': '<strong>Minimum:</strong><br><ul ...   \n",
       "\n",
       "                                            linux_requirements  \\\n",
       "steam_appid                                                      \n",
       "1198490                                                     []   \n",
       "1198510                                                     []   \n",
       "1198550                                                     []   \n",
       "1198600                                                     []   \n",
       "1198630      {'minimum': '<strong>Minimum:</strong><br><ul ...   \n",
       "...                                                        ...   \n",
       "1113770                                                     []   \n",
       "1113780      {'minimum': '<strong>Minimum:</strong><br><ul ...   \n",
       "1113000                                                     []   \n",
       "1113060                                                     []   \n",
       "1113110                                                     []   \n",
       "\n",
       "                                                  legal_notice  \\\n",
       "steam_appid                                                      \n",
       "1198490                 Copyright Glitch Games Ltd 2012 - 2021   \n",
       "1198510                                                    NaN   \n",
       "1198550                                                    NaN   \n",
       "1198600      \"Pizza Time Explosion\" game software is © 2019...   \n",
       "1198630                                                    NaN   \n",
       "...                                                        ...   \n",
       "1113770      ©2019 Alternative Software Ltd.<br />\\r\\n©2019...   \n",
       "1113780      © 2019 Artifex Mundi S.A. All rights reserved....   \n",
       "1113000                    ©ATLUS. ©SEGA. All rights reserved.   \n",
       "1113060                                                    NaN   \n",
       "1113110          @Giovanni Altrui<br />\\r\\nAll rights reserved   \n",
       "\n",
       "                           developers  ... metacritic          drm_notice  \\\n",
       "steam_appid                            ...                                  \n",
       "1198490              ['Glitch Games']  ...        NaN                 NaN   \n",
       "1198510               ['Cliax Games']  ...        NaN                 NaN   \n",
       "1198550         ['All Saints Gaming']  ...        NaN                 NaN   \n",
       "1198600      ['Electric Prune Juice']  ...        NaN                 NaN   \n",
       "1198630                      ['Miel']  ...        NaN                 NaN   \n",
       "...                               ...  ...        ...                 ...   \n",
       "1113770           ['Seashell Studio']  ...        NaN                 NaN   \n",
       "1113780            ['Cordelia Games']  ...        NaN                 NaN   \n",
       "1113000                     ['ATLUS']  ...        NaN  Denuvo Anti-tamper   \n",
       "1113060               [\"Meridian'93\"]  ...        NaN                 NaN   \n",
       "1113110           ['Giovanni Altrui']  ...        NaN                 NaN   \n",
       "\n",
       "            currency initial   final discount_percent initial_formatted  \\\n",
       "steam_appid                                                               \n",
       "1198490          EUR    2.39   239.0              0.0               NaN   \n",
       "1198510          EUR    9.99   999.0              0.0               NaN   \n",
       "1198550          EUR    0.79    79.0              0.0               NaN   \n",
       "1198600          EUR    4.99   499.0              0.0               NaN   \n",
       "1198630          EUR    9.99   999.0              0.0               NaN   \n",
       "...              ...     ...     ...              ...               ...   \n",
       "1113770          EUR   10.79  1079.0              0.0               NaN   \n",
       "1113780          EUR   14.99  1499.0              0.0               NaN   \n",
       "1113000          EUR   19.99  1999.0              0.0               NaN   \n",
       "1113060          EUR   16.79  1679.0              0.0               NaN   \n",
       "1113110          EUR    6.59   659.0              0.0               NaN   \n",
       "\n",
       "            final_formatted recurring_sub recurring_sub_desc  \n",
       "steam_appid                                                   \n",
       "1198490               2,39€           NaN                NaN  \n",
       "1198510               9,99€           NaN                NaN  \n",
       "1198550               0,79€           NaN                NaN  \n",
       "1198600               4,99€           NaN                NaN  \n",
       "1198630               9,99€           NaN                NaN  \n",
       "...                     ...           ...                ...  \n",
       "1113770              10,79€           NaN                NaN  \n",
       "1113780              14,99€           NaN                NaN  \n",
       "1113000              19,99€           NaN                NaN  \n",
       "1113060              16,79€           NaN                NaN  \n",
       "1113110               6,59€           NaN                NaN  \n",
       "\n",
       "[4622 rows x 46 columns]"
      ]
     },
     "execution_count": 4,
     "metadata": {},
     "output_type": "execute_result"
    }
   ],
   "source": [
    "# Read the metadata file\n",
    "file_name = 'database_cleaned.csv'\n",
    "df = pd.read_csv(os.path.join(data_preproc_dir, file_name), header=0, index_col=0)\n",
    "df"
   ]
  },
  {
   "cell_type": "code",
   "execution_count": 20,
   "id": "50d86f7d",
   "metadata": {},
   "outputs": [],
   "source": [
    "# Randomly select values in the table \n",
    "df = df.sample(frac=0.05)"
   ]
  },
  {
   "cell_type": "code",
   "execution_count": 5,
   "id": "09496721",
   "metadata": {},
   "outputs": [],
   "source": [
    "df = df.reset_index()"
   ]
  },
  {
   "cell_type": "code",
   "execution_count": 6,
   "id": "e8a4e84e",
   "metadata": {
    "scrolled": false
   },
   "outputs": [
    {
     "data": {
      "text/plain": [
       "Index(['steam_appid', 'type', 'name', 'required_age', 'is_free',\n",
       "       'supported_languages', 'pc_requirements', 'mac_requirements',\n",
       "       'linux_requirements', 'legal_notice', 'developers', 'publishers',\n",
       "       'price_overview', 'packages', 'package_groups', 'platforms',\n",
       "       'categories', 'genres', 'screenshots', 'movies', 'release_date',\n",
       "       'support_info', 'background', 'content_descriptors', 'num_reviews',\n",
       "       'review_score', 'review_score_desc', 'total_positive', 'total_negative',\n",
       "       'total_reviews', 'controller_support', 'dlc', 'demos',\n",
       "       'recommendations', 'achievements', 'reviews', 'ext_user_account_notice',\n",
       "       'metacritic', 'drm_notice', 'currency', 'initial', 'final',\n",
       "       'discount_percent', 'initial_formatted', 'final_formatted',\n",
       "       'recurring_sub', 'recurring_sub_desc'],\n",
       "      dtype='object')"
      ]
     },
     "execution_count": 6,
     "metadata": {},
     "output_type": "execute_result"
    }
   ],
   "source": [
    "df.columns"
   ]
  },
  {
   "cell_type": "code",
   "execution_count": 7,
   "id": "b0fc09b3",
   "metadata": {},
   "outputs": [],
   "source": [
    "# Create/connect to the database file\n",
    "file_name = \"Games.db\"\n",
    "conn = sqlite3.connect(os.path.join(data_database_dir, file_name))\n",
    "c = conn.cursor()"
   ]
  },
  {
   "cell_type": "code",
   "execution_count": 9,
   "id": "3cfb0011",
   "metadata": {},
   "outputs": [
    {
     "data": {
      "text/plain": [
       "'..\\\\..\\\\Data\\\\Database'"
      ]
     },
     "execution_count": 9,
     "metadata": {},
     "output_type": "execute_result"
    }
   ],
   "source": [
    "os.path.relpath(data_database_dir, os.path.abspath(\".\"))"
   ]
  },
  {
   "cell_type": "code",
   "execution_count": 10,
   "id": "8c9c3441",
   "metadata": {},
   "outputs": [
    {
     "data": {
      "text/plain": [
       "'Connected: @..\\\\\\\\..\\\\\\\\Data\\\\\\\\Database\\\\\\\\Games.db'"
      ]
     },
     "execution_count": 10,
     "metadata": {},
     "output_type": "execute_result"
    }
   ],
   "source": [
    "# Connecting to database:\n",
    "%sql sqlite:///..\\\\..\\\\Data\\\\Database\\\\Games.db"
   ]
  },
  {
   "cell_type": "code",
   "execution_count": 13,
   "id": "4045ef10",
   "metadata": {},
   "outputs": [
    {
     "name": "stdout",
     "output_type": "stream",
     "text": [
      "CREATE TABLE IF NOT EXISTS GAME(\n",
      "    steam_appid INT NOT NULL PRIMARY KEY,\n",
      "    name VARCHAR,\n",
      "    total_reviews INT,\n",
      "    total_positive INT,\n",
      "    total_negative INT\n",
      ")\n"
     ]
    }
   ],
   "source": [
    "# Create table for games\n",
    "columns = {'steam_appid': 'INT',\n",
    "          'name': 'VARCHAR',\n",
    "          'total_reviews': 'INT',\n",
    "          'total_positive': 'INT',\n",
    "          'total_negative': 'INT'} \n",
    "\n",
    "# Create sql command for table creation\n",
    "sql_command = \"\"\n",
    "sql_command +=  f\"CREATE TABLE IF NOT EXISTS GAME(\\n\"\n",
    "for idx, variable_name in enumerate(columns.keys()):\n",
    "    variable_type = columns[variable_name]\n",
    "    sql_command += f\"    {variable_name} {variable_type}\"\n",
    "    if(idx==0):\n",
    "        sql_command += \" NOT NULL PRIMARY KEY\"\n",
    "    if(idx!=len(columns)-1):\n",
    "        sql_command += \",\"\n",
    "    sql_command += \"\\n\"\n",
    "        \n",
    "sql_command +=  \")\"\n",
    "\n",
    "create_table_sql = sql_command\n",
    "print(create_table_sql)"
   ]
  },
  {
   "cell_type": "code",
   "execution_count": 14,
   "id": "2d13faef",
   "metadata": {},
   "outputs": [
    {
     "data": {
      "text/plain": [
       "<sqlite3.Cursor at 0x1f184074570>"
      ]
     },
     "execution_count": 14,
     "metadata": {},
     "output_type": "execute_result"
    }
   ],
   "source": [
    "c.execute(create_table_sql)"
   ]
  },
  {
   "cell_type": "code",
   "execution_count": null,
   "id": "9646a255",
   "metadata": {},
   "outputs": [],
   "source": [
    "# Populate the table\n"
   ]
  },
  {
   "cell_type": "code",
   "execution_count": null,
   "id": "9ca9346b",
   "metadata": {},
   "outputs": [],
   "source": []
  },
  {
   "cell_type": "code",
   "execution_count": 16,
   "id": "eb6e40d4",
   "metadata": {},
   "outputs": [
    {
     "name": "stdout",
     "output_type": "stream",
     "text": [
      " * sqlite:///..\\\\..\\\\Data\\\\Database\\\\Games.db\n",
      "Done.\n"
     ]
    },
    {
     "data": {
      "text/html": [
       "<table>\n",
       "    <thead>\n",
       "        <tr>\n",
       "            <th>steam_appid</th>\n",
       "            <th>name</th>\n",
       "            <th>total_reviews</th>\n",
       "            <th>total_positive</th>\n",
       "            <th>total_negative</th>\n",
       "        </tr>\n",
       "    </thead>\n",
       "    <tbody>\n",
       "    </tbody>\n",
       "</table>"
      ],
      "text/plain": [
       "[]"
      ]
     },
     "execution_count": 16,
     "metadata": {},
     "output_type": "execute_result"
    }
   ],
   "source": [
    "%%sql\n",
    "SELECT * FROM Game"
   ]
  },
  {
   "cell_type": "code",
   "execution_count": null,
   "id": "fd8a68bf",
   "metadata": {},
   "outputs": [],
   "source": []
  },
  {
   "cell_type": "code",
   "execution_count": null,
   "id": "47233e44",
   "metadata": {},
   "outputs": [],
   "source": [
    "# Create table for genres\n",
    "columns = {'steam_appid': 'INT',\n",
    "          'name': 'VARCHAR',\n",
    "          'total_reviews': 'INT',\n",
    "          'total_positive': 'INT',\n",
    "          'total_negative': 'INT'} \n",
    "\n",
    "# Create sql command for table creation\n",
    "sql_command = \"\"\n",
    "sql_command +=  f\"CREATE TABLE IF NOT EXISTS GAME(\\n\"\n",
    "for idx, variable_name in enumerate(columns.keys()):\n",
    "    variable_type = columns[variable_name]\n",
    "    sql_command += f\"    {variable_name} {variable_type}\"\n",
    "    if(idx==0):\n",
    "        sql_command += \" NOT NULL PRIMARY KEY\"\n",
    "    if(idx!=len(columns)-1):\n",
    "        sql_command += \",\"\n",
    "    sql_command += \"\\n\"\n",
    "        \n",
    "sql_command +=  \")\"\n",
    "\n",
    "create_table_sql = sql_command\n",
    "print(create_table_sql)"
   ]
  },
  {
   "cell_type": "code",
   "execution_count": null,
   "id": "09433331",
   "metadata": {},
   "outputs": [],
   "source": []
  },
  {
   "cell_type": "code",
   "execution_count": null,
   "id": "5a3b8ad9",
   "metadata": {},
   "outputs": [],
   "source": []
  },
  {
   "cell_type": "code",
   "execution_count": 17,
   "id": "4e95721c",
   "metadata": {},
   "outputs": [
    {
     "data": {
      "text/html": [
       "<div>\n",
       "<style scoped>\n",
       "    .dataframe tbody tr th:only-of-type {\n",
       "        vertical-align: middle;\n",
       "    }\n",
       "\n",
       "    .dataframe tbody tr th {\n",
       "        vertical-align: top;\n",
       "    }\n",
       "\n",
       "    .dataframe thead th {\n",
       "        text-align: right;\n",
       "    }\n",
       "</style>\n",
       "<table border=\"1\" class=\"dataframe\">\n",
       "  <thead>\n",
       "    <tr style=\"text-align: right;\">\n",
       "      <th></th>\n",
       "      <th>steam_appid</th>\n",
       "      <th>name</th>\n",
       "      <th>total_reviews</th>\n",
       "      <th>total_positive</th>\n",
       "      <th>total_negative</th>\n",
       "    </tr>\n",
       "  </thead>\n",
       "  <tbody>\n",
       "  </tbody>\n",
       "</table>\n",
       "</div>"
      ],
      "text/plain": [
       "Empty DataFrame\n",
       "Columns: [steam_appid, name, total_reviews, total_positive, total_negative]\n",
       "Index: []"
      ]
     },
     "execution_count": 17,
     "metadata": {},
     "output_type": "execute_result"
    }
   ],
   "source": [
    "df_games = pd.read_sql_query(\"SELECT * FROM Game\", conn)\n",
    "df_games"
   ]
  },
  {
   "cell_type": "code",
   "execution_count": 25,
   "id": "f8252240",
   "metadata": {},
   "outputs": [
    {
     "data": {
      "text/plain": [
       "[]"
      ]
     },
     "execution_count": 25,
     "metadata": {},
     "output_type": "execute_result"
    }
   ],
   "source": [
    "c.execute(\"SELECT * FROM Game\")\n",
    "rows = c.fetchall()\n",
    "rows"
   ]
  },
  {
   "cell_type": "code",
   "execution_count": null,
   "id": "c1751771",
   "metadata": {},
   "outputs": [],
   "source": [
    "sql_create_games_table = \"\"\" CREATE TABLE IF NOT EXISTS projects (\n",
    "id integer PRIMARY KEY,\n",
    "name text NOT NULL,\n",
    "begin_date text,\n",
    "end_date text\n",
    "); \"\"\""
   ]
  },
  {
   "cell_type": "code",
   "execution_count": null,
   "id": "07908d01",
   "metadata": {},
   "outputs": [],
   "source": [
    "print(sql_create_games_table)"
   ]
  },
  {
   "cell_type": "code",
   "execution_count": null,
   "id": "ea9989b1",
   "metadata": {},
   "outputs": [],
   "source": [
    "# Declarative base class\n",
    "Base = declarative_base()\n",
    "\n",
    "# Table inheriting from the base\n",
    "class Games(Base):\n",
    "    __tablename__ = 'user'\n",
    "\n",
    "    steam_appid = Column(Integer, primary_key=True)\n",
    "    name = Column(String)\n",
    "    required_age = Column(Integer)\n",
    "    review_score = Column(Integer)"
   ]
  },
  {
   "cell_type": "code",
   "execution_count": null,
   "id": "a420bc62",
   "metadata": {},
   "outputs": [],
   "source": [
    "engine = create_engine('sqlite:///Games.db')\n",
    "Base.metadata.create_all(engine)"
   ]
  },
  {
   "cell_type": "code",
   "execution_count": null,
   "id": "ad440e44",
   "metadata": {},
   "outputs": [],
   "source": [
    "# Bind the engine to the metadata of the Base class so that the\n",
    "# declaratives can be accessed through a DBSession instance\n",
    "Base.metadata.bind = engine\n",
    "DBSession = sessionmaker(bind=engine)\n",
    "session = DBSession()"
   ]
  },
  {
   "cell_type": "code",
   "execution_count": null,
   "id": "32be8e75",
   "metadata": {},
   "outputs": [],
   "source": [
    "# Connecting to database:\n",
    "%sql sqlite:///Games.db"
   ]
  },
  {
   "cell_type": "code",
   "execution_count": null,
   "id": "54745364",
   "metadata": {},
   "outputs": [],
   "source": [
    "%%sql\n",
    "SELECT * FROM Game"
   ]
  },
  {
   "cell_type": "code",
   "execution_count": null,
   "id": "3cf5cd27",
   "metadata": {},
   "outputs": [],
   "source": [
    "# cursor.execute(sql_command)"
   ]
  },
  {
   "cell_type": "code",
   "execution_count": null,
   "id": "098b1447",
   "metadata": {},
   "outputs": [],
   "source": [
    "# # cursor.execute(\"SELECT * FROM EMPLOYEE\")\n",
    "# rows = cursor.fetchall()"
   ]
  },
  {
   "cell_type": "code",
   "execution_count": null,
   "id": "c9737280",
   "metadata": {},
   "outputs": [],
   "source": [
    "DBSession = sessionmaker(bind=engine)\n",
    "session = DBSession()"
   ]
  },
  {
   "cell_type": "code",
   "execution_count": null,
   "id": "d455ce39",
   "metadata": {},
   "outputs": [],
   "source": []
  },
  {
   "cell_type": "code",
   "execution_count": null,
   "id": "d91ebdf0",
   "metadata": {},
   "outputs": [],
   "source": [
    "column_names = ['steam_appid', 'name', 'required_age']\n",
    "column_data_types = ['INT', 'VARCHAR', 'INT']\n",
    "\n",
    "# Create sql command for table creation\n",
    "sql_command = \"\"\n",
    "sql_command +=  f\"CREATE TABLE IF NOT EXISTS GAME(\\n\"\n",
    "for idx, column_name in enumerate(column_names):\n",
    "    sql_command += f\"    {column_name} {column_data_types[idx]}\"\n",
    "    if(idx==0):\n",
    "        sql_command += \" NOT NULL PRIMARY KEY\"\n",
    "    if(idx!=len(column_names)-1):\n",
    "        sql_command += \",\"\n",
    "    sql_command += \"\\n\"\n",
    "        \n",
    "sql_command +=  \")\"\n",
    "sql_command"
   ]
  },
  {
   "cell_type": "code",
   "execution_count": null,
   "id": "c5072c9c",
   "metadata": {
    "scrolled": true
   },
   "outputs": [],
   "source": [
    "print(sql_command)"
   ]
  },
  {
   "cell_type": "code",
   "execution_count": null,
   "id": "5bd54ef5",
   "metadata": {},
   "outputs": [],
   "source": [
    "engine.execute(sql_command)"
   ]
  },
  {
   "cell_type": "code",
   "execution_count": null,
   "id": "469edf1a",
   "metadata": {},
   "outputs": [],
   "source": [
    "sql_command =\"\"\"CREATE TABLE EMPLOYEE(\n",
    "    FIRST_NAME VARCHAR NOT NULL PRIMARY KEY,\n",
    "    LAST_NAME VARCHAR,\n",
    "    AGE INT\n",
    ")\"\"\""
   ]
  },
  {
   "cell_type": "code",
   "execution_count": null,
   "id": "9cc70bcb",
   "metadata": {},
   "outputs": [],
   "source": [
    "sql_command"
   ]
  },
  {
   "cell_type": "code",
   "execution_count": null,
   "id": "96293628",
   "metadata": {
    "scrolled": true
   },
   "outputs": [],
   "source": [
    "print(sql_command)"
   ]
  },
  {
   "cell_type": "code",
   "execution_count": null,
   "id": "2b87421c",
   "metadata": {
    "scrolled": true
   },
   "outputs": [],
   "source": [
    "engine.execute(sql_command)"
   ]
  },
  {
   "cell_type": "code",
   "execution_count": null,
   "id": "6b2adcdf",
   "metadata": {},
   "outputs": [],
   "source": [
    "%%sql\n",
    "SELECT * FROM EMPLOYEE"
   ]
  },
  {
   "cell_type": "code",
   "execution_count": null,
   "id": "b15eca13",
   "metadata": {},
   "outputs": [],
   "source": [
    "# Delete table\n",
    "sql = 'DROP TABLE IF EXISTS EMPLOYEE;'\n",
    "result = engine.execute(sql)"
   ]
  },
  {
   "cell_type": "code",
   "execution_count": null,
   "id": "dc746ce9",
   "metadata": {},
   "outputs": [],
   "source": [
    "%%sql\n",
    "SELECT * FROM EMPLOYEE"
   ]
  },
  {
   "cell_type": "code",
   "execution_count": null,
   "id": "842519cb",
   "metadata": {},
   "outputs": [],
   "source": [
    "# %%sql\n",
    "\n",
    "# Insert values into the table `user`\n",
    "\n",
    "sql = \"\"\"INSERT INTO Game(steam_appid, name, game_type)\n",
    "    VALUES (2,'ece','horror'), \n",
    "    (3,'xx','fun');\"\"\""
   ]
  },
  {
   "cell_type": "code",
   "execution_count": null,
   "id": "9701e663",
   "metadata": {},
   "outputs": [],
   "source": [
    "engine.execute(sql)"
   ]
  }
 ],
 "metadata": {
  "kernelspec": {
   "display_name": "Python 3 (ipykernel)",
   "language": "python",
   "name": "python3"
  },
  "language_info": {
   "codemirror_mode": {
    "name": "ipython",
    "version": 3
   },
   "file_extension": ".py",
   "mimetype": "text/x-python",
   "name": "python",
   "nbconvert_exporter": "python",
   "pygments_lexer": "ipython3",
   "version": "3.9.7"
  }
 },
 "nbformat": 4,
 "nbformat_minor": 5
}
